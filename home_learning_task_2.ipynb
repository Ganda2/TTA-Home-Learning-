{
 "cells": [
  {
   "cell_type": "markdown",
   "metadata": {},
   "source": [
    "Program that asks a user for their favourite number between 1 \n",
    "and 100 and then tells them a joke based on the number."
   ]
  },
  {
   "cell_type": "code",
   "execution_count": 7,
   "metadata": {},
   "outputs": [
    {
     "name": "stdout",
     "output_type": "stream",
     "text": [
      "What do you call a factory that makes okay products?A satisfactory.\n"
     ]
    }
   ],
   "source": [
    "#importing library\n",
    "import random\n",
    "randnum = random.randint(1,100)\n",
    "\n",
    "#storing jokes in variables\n",
    "joke_one = \"Singing in the shower is fun until you get soap in your mouth. Then it\\'s a soap opera\"\n",
    "joke_two = \"What do you call a factory that makes okay products?\" \"A satisfactory.\"\n",
    "joke_three = \"What did one wall say to the other?\" \" I'll meet you at the corner.\"\n",
    "\n",
    "#code will accept input from user to make a choice of number\n",
    "favourite_num = int(input(\"Please choose your favourite number between 1 and 100:\\n\"))\n",
    "\n",
    "#conditions for choosing a particular joke \n",
    "if favourite_num <= randnum:\n",
    "    print(joke_one)\n",
    "\n",
    "elif favourite_num >=randnum:\n",
    "    print(joke_two)\n",
    "\n",
    "else: \n",
    "     print(joke_three)\n",
    "\n",
    "\n"
   ]
  }
 ],
 "metadata": {
  "interpreter": {
   "hash": "d62bf26cced73ea125945064761b766a12ba49f06257a4865f283bda77d40a78"
  },
  "kernelspec": {
   "display_name": "Python 3.9.10 64-bit (windows store)",
   "language": "python",
   "name": "python3"
  },
  "language_info": {
   "codemirror_mode": {
    "name": "ipython",
    "version": 3
   },
   "file_extension": ".py",
   "mimetype": "text/x-python",
   "name": "python",
   "nbconvert_exporter": "python",
   "pygments_lexer": "ipython3",
   "version": "3.8.5"
  },
  "orig_nbformat": 4
 },
 "nbformat": 4,
 "nbformat_minor": 2
}
