{
 "cells": [
  {
   "cell_type": "markdown",
   "metadata": {},
   "source": [
    "Home Learning Task 6-- Pandas"
   ]
  },
  {
   "cell_type": "code",
   "execution_count": 81,
   "metadata": {},
   "outputs": [],
   "source": [
    "#importing libraries\n",
    "import pandas as pd"
   ]
  },
  {
   "cell_type": "code",
   "execution_count": 82,
   "metadata": {},
   "outputs": [],
   "source": [
    "data = pd.read_csv(\"holiday_detinations.csv\",index_col=False)"
   ]
  },
  {
   "cell_type": "code",
   "execution_count": 83,
   "metadata": {},
   "outputs": [
    {
     "data": {
      "text/plain": [
       "(15, 7)"
      ]
     },
     "execution_count": 83,
     "metadata": {},
     "output_type": "execute_result"
    }
   ],
   "source": [
    "#shows number of rows and columns\n",
    "data.shape"
   ]
  },
  {
   "cell_type": "code",
   "execution_count": 84,
   "metadata": {},
   "outputs": [
    {
     "data": {
      "text/html": [
       "<div>\n",
       "<style scoped>\n",
       "    .dataframe tbody tr th:only-of-type {\n",
       "        vertical-align: middle;\n",
       "    }\n",
       "\n",
       "    .dataframe tbody tr th {\n",
       "        vertical-align: top;\n",
       "    }\n",
       "\n",
       "    .dataframe thead th {\n",
       "        text-align: right;\n",
       "    }\n",
       "</style>\n",
       "<table border=\"1\" class=\"dataframe\">\n",
       "  <thead>\n",
       "    <tr style=\"text-align: right;\">\n",
       "      <th></th>\n",
       "      <th>destination</th>\n",
       "      <th>cities</th>\n",
       "      <th>country</th>\n",
       "      <th>package-including</th>\n",
       "      <th>feedback</th>\n",
       "      <th>star_rating</th>\n",
       "      <th>avg_reviews_score</th>\n",
       "    </tr>\n",
       "  </thead>\n",
       "  <tbody>\n",
       "    <tr>\n",
       "      <th>0</th>\n",
       "      <td>Balaia Golf Village</td>\n",
       "      <td>Algarve</td>\n",
       "      <td>Portugal</td>\n",
       "      <td>8</td>\n",
       "      <td>Good</td>\n",
       "      <td>2-Star</td>\n",
       "      <td>8.2</td>\n",
       "    </tr>\n",
       "    <tr>\n",
       "      <th>1</th>\n",
       "      <td>Carlton &amp; Grand Canal</td>\n",
       "      <td>Rome</td>\n",
       "      <td>Italy</td>\n",
       "      <td>5</td>\n",
       "      <td>Excellent</td>\n",
       "      <td>4-Star</td>\n",
       "      <td>8.5</td>\n",
       "    </tr>\n",
       "    <tr>\n",
       "      <th>2</th>\n",
       "      <td>Barcelona Universal</td>\n",
       "      <td>Costa Bravia</td>\n",
       "      <td>Spain</td>\n",
       "      <td>4</td>\n",
       "      <td>Very Good</td>\n",
       "      <td>5-Star</td>\n",
       "      <td>9.4</td>\n",
       "    </tr>\n",
       "    <tr>\n",
       "      <th>3</th>\n",
       "      <td>Aloft Arundel Mills</td>\n",
       "      <td>Maryland</td>\n",
       "      <td>US</td>\n",
       "      <td>2</td>\n",
       "      <td>Good</td>\n",
       "      <td>3-Star</td>\n",
       "      <td>7.5</td>\n",
       "    </tr>\n",
       "    <tr>\n",
       "      <th>4</th>\n",
       "      <td>Hemlock Hall</td>\n",
       "      <td>New York</td>\n",
       "      <td>US</td>\n",
       "      <td>1</td>\n",
       "      <td>Bad</td>\n",
       "      <td>2-Star</td>\n",
       "      <td>6.8</td>\n",
       "    </tr>\n",
       "  </tbody>\n",
       "</table>\n",
       "</div>"
      ],
      "text/plain": [
       "             destination        cities   country  package-including  \\\n",
       "0    Balaia Golf Village       Algarve  Portugal                  8   \n",
       "1  Carlton & Grand Canal          Rome     Italy                  5   \n",
       "2    Barcelona Universal  Costa Bravia     Spain                  4   \n",
       "3    Aloft Arundel Mills      Maryland        US                  2   \n",
       "4           Hemlock Hall      New York        US                  1   \n",
       "\n",
       "    feedback star_rating  avg_reviews_score  \n",
       "0       Good      2-Star                8.2  \n",
       "1  Excellent      4-Star                8.5  \n",
       "2  Very Good      5-Star                9.4  \n",
       "3       Good      3-Star                7.5  \n",
       "4        Bad      2-Star                6.8  "
      ]
     },
     "execution_count": 84,
     "metadata": {},
     "output_type": "execute_result"
    }
   ],
   "source": [
    "#printing the first 5 rows\n",
    "data.head(5)"
   ]
  },
  {
   "cell_type": "code",
   "execution_count": 85,
   "metadata": {},
   "outputs": [
    {
     "data": {
      "text/html": [
       "<div>\n",
       "<style scoped>\n",
       "    .dataframe tbody tr th:only-of-type {\n",
       "        vertical-align: middle;\n",
       "    }\n",
       "\n",
       "    .dataframe tbody tr th {\n",
       "        vertical-align: top;\n",
       "    }\n",
       "\n",
       "    .dataframe thead th {\n",
       "        text-align: right;\n",
       "    }\n",
       "</style>\n",
       "<table border=\"1\" class=\"dataframe\">\n",
       "  <thead>\n",
       "    <tr style=\"text-align: right;\">\n",
       "      <th></th>\n",
       "      <th>destination</th>\n",
       "      <th>cities</th>\n",
       "      <th>country</th>\n",
       "      <th>package-including</th>\n",
       "      <th>feedback</th>\n",
       "      <th>star_rating</th>\n",
       "      <th>avg_reviews_score</th>\n",
       "    </tr>\n",
       "  </thead>\n",
       "  <tbody>\n",
       "    <tr>\n",
       "      <th>3</th>\n",
       "      <td>Aloft Arundel Mills</td>\n",
       "      <td>Maryland</td>\n",
       "      <td>US</td>\n",
       "      <td>2</td>\n",
       "      <td>Good</td>\n",
       "      <td>3-Star</td>\n",
       "      <td>7.5</td>\n",
       "    </tr>\n",
       "    <tr>\n",
       "      <th>4</th>\n",
       "      <td>Hemlock Hall</td>\n",
       "      <td>New York</td>\n",
       "      <td>US</td>\n",
       "      <td>1</td>\n",
       "      <td>Bad</td>\n",
       "      <td>2-Star</td>\n",
       "      <td>6.8</td>\n",
       "    </tr>\n",
       "    <tr>\n",
       "      <th>5</th>\n",
       "      <td>Maryciel</td>\n",
       "      <td>Costa Blanca</td>\n",
       "      <td>Spain</td>\n",
       "      <td>2</td>\n",
       "      <td>Worse</td>\n",
       "      <td>2-Star</td>\n",
       "      <td>1.0</td>\n",
       "    </tr>\n",
       "    <tr>\n",
       "      <th>6</th>\n",
       "      <td>Rancho Valencia Resort Spa</td>\n",
       "      <td>San Francisco</td>\n",
       "      <td>US</td>\n",
       "      <td>9</td>\n",
       "      <td>Excellent</td>\n",
       "      <td>5-Star</td>\n",
       "      <td>7.5</td>\n",
       "    </tr>\n",
       "    <tr>\n",
       "      <th>7</th>\n",
       "      <td>CHC Continental</td>\n",
       "      <td>Venice</td>\n",
       "      <td>Italy</td>\n",
       "      <td>8</td>\n",
       "      <td>Very Good</td>\n",
       "      <td>5-Star</td>\n",
       "      <td>8.3</td>\n",
       "    </tr>\n",
       "  </tbody>\n",
       "</table>\n",
       "</div>"
      ],
      "text/plain": [
       "                  destination         cities country  package-including  \\\n",
       "3         Aloft Arundel Mills       Maryland      US                  2   \n",
       "4                Hemlock Hall       New York      US                  1   \n",
       "5                    Maryciel   Costa Blanca   Spain                  2   \n",
       "6  Rancho Valencia Resort Spa  San Francisco      US                  9   \n",
       "7             CHC Continental         Venice   Italy                  8   \n",
       "\n",
       "    feedback star_rating  avg_reviews_score  \n",
       "3       Good      3-Star                7.5  \n",
       "4        Bad      2-Star                6.8  \n",
       "5      Worse      2-Star                1.0  \n",
       "6  Excellent      5-Star                7.5  \n",
       "7  Very Good      5-Star                8.3  "
      ]
     },
     "execution_count": 85,
     "metadata": {},
     "output_type": "execute_result"
    }
   ],
   "source": [
    "#printing 3 to 8 rows using \"iloc\"\n",
    "data.iloc[3:8]"
   ]
  },
  {
   "cell_type": "code",
   "execution_count": 86,
   "metadata": {},
   "outputs": [
    {
     "data": {
      "text/html": [
       "<div>\n",
       "<style scoped>\n",
       "    .dataframe tbody tr th:only-of-type {\n",
       "        vertical-align: middle;\n",
       "    }\n",
       "\n",
       "    .dataframe tbody tr th {\n",
       "        vertical-align: top;\n",
       "    }\n",
       "\n",
       "    .dataframe thead th {\n",
       "        text-align: right;\n",
       "    }\n",
       "</style>\n",
       "<table border=\"1\" class=\"dataframe\">\n",
       "  <thead>\n",
       "    <tr style=\"text-align: right;\">\n",
       "      <th></th>\n",
       "      <th>destination</th>\n",
       "      <th>cities</th>\n",
       "      <th>country</th>\n",
       "      <th>package-including</th>\n",
       "      <th>feedback</th>\n",
       "      <th>star_rating</th>\n",
       "      <th>avg_reviews_score</th>\n",
       "    </tr>\n",
       "  </thead>\n",
       "  <tbody>\n",
       "    <tr>\n",
       "      <th>3</th>\n",
       "      <td>Aloft Arundel Mills</td>\n",
       "      <td>Maryland</td>\n",
       "      <td>US</td>\n",
       "      <td>2</td>\n",
       "      <td>Good</td>\n",
       "      <td>3-Star</td>\n",
       "      <td>7.5</td>\n",
       "    </tr>\n",
       "    <tr>\n",
       "      <th>4</th>\n",
       "      <td>Hemlock Hall</td>\n",
       "      <td>New York</td>\n",
       "      <td>US</td>\n",
       "      <td>1</td>\n",
       "      <td>Bad</td>\n",
       "      <td>2-Star</td>\n",
       "      <td>6.8</td>\n",
       "    </tr>\n",
       "    <tr>\n",
       "      <th>5</th>\n",
       "      <td>Maryciel</td>\n",
       "      <td>Costa Blanca</td>\n",
       "      <td>Spain</td>\n",
       "      <td>2</td>\n",
       "      <td>Worse</td>\n",
       "      <td>2-Star</td>\n",
       "      <td>1.0</td>\n",
       "    </tr>\n",
       "    <tr>\n",
       "      <th>6</th>\n",
       "      <td>Rancho Valencia Resort Spa</td>\n",
       "      <td>San Francisco</td>\n",
       "      <td>US</td>\n",
       "      <td>9</td>\n",
       "      <td>Excellent</td>\n",
       "      <td>5-Star</td>\n",
       "      <td>7.5</td>\n",
       "    </tr>\n",
       "    <tr>\n",
       "      <th>7</th>\n",
       "      <td>CHC Continental</td>\n",
       "      <td>Venice</td>\n",
       "      <td>Italy</td>\n",
       "      <td>8</td>\n",
       "      <td>Very Good</td>\n",
       "      <td>5-Star</td>\n",
       "      <td>8.3</td>\n",
       "    </tr>\n",
       "    <tr>\n",
       "      <th>8</th>\n",
       "      <td>The Inn at Solvang</td>\n",
       "      <td>Pennsylvania</td>\n",
       "      <td>US</td>\n",
       "      <td>6</td>\n",
       "      <td>Good</td>\n",
       "      <td>3-Star</td>\n",
       "      <td>8.6</td>\n",
       "    </tr>\n",
       "  </tbody>\n",
       "</table>\n",
       "</div>"
      ],
      "text/plain": [
       "                  destination         cities country  package-including  \\\n",
       "3         Aloft Arundel Mills       Maryland      US                  2   \n",
       "4                Hemlock Hall       New York      US                  1   \n",
       "5                    Maryciel   Costa Blanca   Spain                  2   \n",
       "6  Rancho Valencia Resort Spa  San Francisco      US                  9   \n",
       "7             CHC Continental         Venice   Italy                  8   \n",
       "8          The Inn at Solvang   Pennsylvania      US                  6   \n",
       "\n",
       "    feedback star_rating  avg_reviews_score  \n",
       "3       Good      3-Star                7.5  \n",
       "4        Bad      2-Star                6.8  \n",
       "5      Worse      2-Star                1.0  \n",
       "6  Excellent      5-Star                7.5  \n",
       "7  Very Good      5-Star                8.3  \n",
       "8       Good      3-Star                8.6  "
      ]
     },
     "execution_count": 86,
     "metadata": {},
     "output_type": "execute_result"
    }
   ],
   "source": [
    "#printing 3 to 8 rows using \"iloc\"\n",
    "data.loc[3:8]\n"
   ]
  },
  {
   "cell_type": "code",
   "execution_count": 87,
   "metadata": {},
   "outputs": [
    {
     "data": {
      "text/plain": [
       "5.533333333333333"
      ]
     },
     "execution_count": 87,
     "metadata": {},
     "output_type": "execute_result"
    }
   ],
   "source": [
    "#finding the mean of all-inclusive hotels\n",
    "inclusive = data[\"package-including\"].mean()\n",
    "inclusive"
   ]
  },
  {
   "cell_type": "code",
   "execution_count": 88,
   "metadata": {},
   "outputs": [
    {
     "data": {
      "text/plain": [
       "1.0"
      ]
     },
     "execution_count": 88,
     "metadata": {},
     "output_type": "execute_result"
    }
   ],
   "source": [
    "#lowest scoring destination\n",
    "scoremin = data[\"avg_reviews_score\"].min()\n",
    "scoremin"
   ]
  },
  {
   "cell_type": "code",
   "execution_count": 89,
   "metadata": {},
   "outputs": [
    {
     "data": {
      "text/plain": [
       "9.4"
      ]
     },
     "execution_count": 89,
     "metadata": {},
     "output_type": "execute_result"
    }
   ],
   "source": [
    "#highest scoring destination\n",
    "scoremax = data[\"avg_reviews_score\"].max()\n",
    "scoremax"
   ]
  },
  {
   "cell_type": "code",
   "execution_count": 91,
   "metadata": {},
   "outputs": [
    {
     "data": {
      "text/html": [
       "<div>\n",
       "<style scoped>\n",
       "    .dataframe tbody tr th:only-of-type {\n",
       "        vertical-align: middle;\n",
       "    }\n",
       "\n",
       "    .dataframe tbody tr th {\n",
       "        vertical-align: top;\n",
       "    }\n",
       "\n",
       "    .dataframe thead th {\n",
       "        text-align: right;\n",
       "    }\n",
       "</style>\n",
       "<table border=\"1\" class=\"dataframe\">\n",
       "  <thead>\n",
       "    <tr style=\"text-align: right;\">\n",
       "      <th></th>\n",
       "      <th>destination</th>\n",
       "      <th>cities</th>\n",
       "      <th>country</th>\n",
       "      <th>package-including</th>\n",
       "      <th>feedback</th>\n",
       "      <th>star_rating</th>\n",
       "      <th>avg_reviews_score</th>\n",
       "    </tr>\n",
       "  </thead>\n",
       "  <tbody>\n",
       "    <tr>\n",
       "      <th>14</th>\n",
       "      <td>Grandior Hotel Prague</td>\n",
       "      <td>Prague</td>\n",
       "      <td>Czech Republic</td>\n",
       "      <td>10</td>\n",
       "      <td>Excellent</td>\n",
       "      <td>5-Star</td>\n",
       "      <td>4.4</td>\n",
       "    </tr>\n",
       "  </tbody>\n",
       "</table>\n",
       "</div>"
      ],
      "text/plain": [
       "              destination  cities         country  package-including  \\\n",
       "14  Grandior Hotel Prague  Prague  Czech Republic                 10   \n",
       "\n",
       "     feedback star_rating  avg_reviews_score  \n",
       "14  Excellent      5-Star                4.4  "
      ]
     },
     "execution_count": 91,
     "metadata": {},
     "output_type": "execute_result"
    }
   ],
   "source": [
    "#destinations where there are more than 9 all-inclusive hotels.\n",
    "dfilter = data[data[\"package-including\"] > 9]\n",
    "dfilter"
   ]
  },
  {
   "cell_type": "code",
   "execution_count": 92,
   "metadata": {},
   "outputs": [
    {
     "data": {
      "text/html": [
       "<div>\n",
       "<style scoped>\n",
       "    .dataframe tbody tr th:only-of-type {\n",
       "        vertical-align: middle;\n",
       "    }\n",
       "\n",
       "    .dataframe tbody tr th {\n",
       "        vertical-align: top;\n",
       "    }\n",
       "\n",
       "    .dataframe thead th {\n",
       "        text-align: right;\n",
       "    }\n",
       "</style>\n",
       "<table border=\"1\" class=\"dataframe\">\n",
       "  <thead>\n",
       "    <tr style=\"text-align: right;\">\n",
       "      <th></th>\n",
       "      <th>destination</th>\n",
       "      <th>cities</th>\n",
       "      <th>country</th>\n",
       "      <th>package-including</th>\n",
       "      <th>feedback</th>\n",
       "      <th>star_rating</th>\n",
       "      <th>avg_reviews_score</th>\n",
       "    </tr>\n",
       "  </thead>\n",
       "  <tbody>\n",
       "    <tr>\n",
       "      <th>14</th>\n",
       "      <td>Grandior Hotel Prague</td>\n",
       "      <td>Prague</td>\n",
       "      <td>Czech Republic</td>\n",
       "      <td>10</td>\n",
       "      <td>Excellent</td>\n",
       "      <td>5-Star</td>\n",
       "      <td>4.4</td>\n",
       "    </tr>\n",
       "  </tbody>\n",
       "</table>\n",
       "</div>"
      ],
      "text/plain": [
       "              destination  cities         country  package-including  \\\n",
       "14  Grandior Hotel Prague  Prague  Czech Republic                 10   \n",
       "\n",
       "     feedback star_rating  avg_reviews_score  \n",
       "14  Excellent      5-Star                4.4  "
      ]
     },
     "execution_count": 92,
     "metadata": {},
     "output_type": "execute_result"
    }
   ],
   "source": [
    "#scores above 8\n",
    "sfilter = data[data[\"package-including\"] > 8]\n",
    "dfilter"
   ]
  },
  {
   "cell_type": "code",
   "execution_count": 93,
   "metadata": {},
   "outputs": [
    {
     "data": {
      "text/html": [
       "<div>\n",
       "<style scoped>\n",
       "    .dataframe tbody tr th:only-of-type {\n",
       "        vertical-align: middle;\n",
       "    }\n",
       "\n",
       "    .dataframe tbody tr th {\n",
       "        vertical-align: top;\n",
       "    }\n",
       "\n",
       "    .dataframe thead th {\n",
       "        text-align: right;\n",
       "    }\n",
       "</style>\n",
       "<table border=\"1\" class=\"dataframe\">\n",
       "  <thead>\n",
       "    <tr style=\"text-align: right;\">\n",
       "      <th></th>\n",
       "      <th>destination</th>\n",
       "      <th>cities</th>\n",
       "      <th>country</th>\n",
       "      <th>package-including</th>\n",
       "      <th>feedback</th>\n",
       "      <th>star_rating</th>\n",
       "      <th>avg_reviews_score</th>\n",
       "    </tr>\n",
       "  </thead>\n",
       "  <tbody>\n",
       "    <tr>\n",
       "      <th>4</th>\n",
       "      <td>Hemlock Hall</td>\n",
       "      <td>New York</td>\n",
       "      <td>US</td>\n",
       "      <td>1</td>\n",
       "      <td>Bad</td>\n",
       "      <td>2-Star</td>\n",
       "      <td>6.8</td>\n",
       "    </tr>\n",
       "    <tr>\n",
       "      <th>13</th>\n",
       "      <td>Playa Park Zensation</td>\n",
       "      <td>Fuerteventura</td>\n",
       "      <td>Canary Islands</td>\n",
       "      <td>1</td>\n",
       "      <td>Bad</td>\n",
       "      <td>1-Star</td>\n",
       "      <td>1.5</td>\n",
       "    </tr>\n",
       "  </tbody>\n",
       "</table>\n",
       "</div>"
      ],
      "text/plain": [
       "             destination         cities         country  package-including  \\\n",
       "4           Hemlock Hall       New York              US                  1   \n",
       "13  Playa Park Zensation  Fuerteventura  Canary Islands                  1   \n",
       "\n",
       "   feedback star_rating  avg_reviews_score  \n",
       "4       Bad      2-Star                6.8  \n",
       "13      Bad      1-Star                1.5  "
      ]
     },
     "execution_count": 93,
     "metadata": {},
     "output_type": "execute_result"
    }
   ],
   "source": [
    "#score below 2\n",
    "sfilter = data[data[\"package-including\"] < 2]\n",
    "sfilter"
   ]
  },
  {
   "cell_type": "markdown",
   "metadata": {},
   "source": [
    "Extension \n",
    "1. Is there a correlation between number of all-inclusive hotels and score?\n",
    "2. Create a data visualisation diagram to show destination and highest scores?"
   ]
  },
  {
   "cell_type": "code",
   "execution_count": 102,
   "metadata": {},
   "outputs": [
    {
     "data": {
      "text/html": [
       "<div>\n",
       "<style scoped>\n",
       "    .dataframe tbody tr th:only-of-type {\n",
       "        vertical-align: middle;\n",
       "    }\n",
       "\n",
       "    .dataframe tbody tr th {\n",
       "        vertical-align: top;\n",
       "    }\n",
       "\n",
       "    .dataframe thead th {\n",
       "        text-align: right;\n",
       "    }\n",
       "</style>\n",
       "<table border=\"1\" class=\"dataframe\">\n",
       "  <thead>\n",
       "    <tr style=\"text-align: right;\">\n",
       "      <th></th>\n",
       "      <th>package-including</th>\n",
       "      <th>avg_reviews_score</th>\n",
       "    </tr>\n",
       "  </thead>\n",
       "  <tbody>\n",
       "    <tr>\n",
       "      <th>package-including</th>\n",
       "      <td>1.000000</td>\n",
       "      <td>0.361975</td>\n",
       "    </tr>\n",
       "    <tr>\n",
       "      <th>avg_reviews_score</th>\n",
       "      <td>0.361975</td>\n",
       "      <td>1.000000</td>\n",
       "    </tr>\n",
       "  </tbody>\n",
       "</table>\n",
       "</div>"
      ],
      "text/plain": [
       "                   package-including  avg_reviews_score\n",
       "package-including           1.000000           0.361975\n",
       "avg_reviews_score           0.361975           1.000000"
      ]
     },
     "execution_count": 102,
     "metadata": {},
     "output_type": "execute_result"
    }
   ],
   "source": [
    "\n",
    "import numpy as np\n",
    "\n",
    "#correlation between number of all-inclusive hotels and score\n",
    "data.corr()\n"
   ]
  },
  {
   "cell_type": "code",
   "execution_count": 103,
   "metadata": {},
   "outputs": [],
   "source": [
    "####****there is a 1 to 1 relationship (a perfect correlation), and for this data set, each time values of all inclusive went up ,score also went up as well.*****"
   ]
  },
  {
   "cell_type": "markdown",
   "metadata": {},
   "source": [
    "Data Visualisation"
   ]
  },
  {
   "cell_type": "code",
   "execution_count": 94,
   "metadata": {},
   "outputs": [],
   "source": [
    "# importing libraries \n",
    "\n",
    "import matplotlib \n",
    "from matplotlib import pyplot as plt"
   ]
  },
  {
   "cell_type": "code",
   "execution_count": 95,
   "metadata": {},
   "outputs": [
    {
     "data": {
      "text/plain": [
       "<AxesSubplot:>"
      ]
     },
     "execution_count": 95,
     "metadata": {},
     "output_type": "execute_result"
    },
    {
     "data": {
      "image/png": "[encoded data removed]",
      "text/plain": [
       "<Figure size 432x288 with 1 Axes>"
      ]
     },
     "metadata": {
      "needs_background": "light"
     },
     "output_type": "display_data"
    }
   ],
   "source": [
    "## line graph for all inclusive and scores shows there is a correlation between \n",
    "data.plot()"
   ]
  },
  {
   "cell_type": "code",
   "execution_count": 99,
   "metadata": {},
   "outputs": [
    {
     "data": {
      "text/plain": [
       "array([[<AxesSubplot:title={'center':'package-including'}>,\n",
       "        <AxesSubplot:title={'center':'avg_reviews_score'}>]], dtype=object)"
      ]
     },
     "execution_count": 99,
     "metadata": {},
     "output_type": "execute_result"
    },
    {
     "data": {
      "image/png": "[encoded data removed]",
      "text/plain": [
       "<Figure size 360x648 with 2 Axes>"
      ]
     },
     "metadata": {
      "needs_background": "light"
     },
     "output_type": "display_data"
    }
   ],
   "source": [
    "data.hist(figsize = (5,9))"
   ]
  },
  {
   "cell_type": "code",
   "execution_count": 100,
   "metadata": {},
   "outputs": [
    {
     "data": {
      "text/plain": [
       "<AxesSubplot:>"
      ]
     },
     "execution_count": 100,
     "metadata": {},
     "output_type": "execute_result"
    },
    {
     "data": {
      "image/png": "[encoded data removed]",
      "text/plain": [
       "<Figure size 432x288 with 1 Axes>"
      ]
     },
     "metadata": {
      "needs_background": "light"
     },
     "output_type": "display_data"
    }
   ],
   "source": [
    "columns = ['package-including', 'avg_reviews_score']\n",
    "data[columns].plot.box()\n"
   ]
  }
 ],
 "metadata": {
  "interpreter": {
   "hash": "d62bf26cced73ea125945064761b766a12ba49f06257a4865f283bda77d40a78"
  },
  "kernelspec": {
   "display_name": "Python 3.9.10 64-bit (windows store)",
   "language": "python",
   "name": "python3"
  },
  "language_info": {
   "codemirror_mode": {
    "name": "ipython",
    "version": 3
   },
   "file_extension": ".py",
   "mimetype": "text/x-python",
   "name": "python",
   "nbconvert_exporter": "python",
   "pygments_lexer": "ipython3",
   "version": "3.9.10"
  },
  "orig_nbformat": 4
 },
 "nbformat": 4,
 "nbformat_minor": 2
}
