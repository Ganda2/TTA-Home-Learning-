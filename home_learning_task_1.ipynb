{
 "cells": [
  {
   "cell_type": "markdown",
   "metadata": {},
   "source": [
    "Home Learning Task 1"
   ]
  },
  {
   "cell_type": "code",
   "execution_count": 7,
   "metadata": {},
   "outputs": [
    {
     "name": "stdout",
     "output_type": "stream",
     "text": [
      "Hi ag\n",
      "Sorry! ag your guess is incorrect, please try again\n"
     ]
    }
   ],
   "source": [
    "#code stores a random number (1-10) in a variable\n",
    "import random\n",
    "numrand = random.randint(1,10)\n",
    "\n",
    "#code asks a user for their name and stores this in a variable\n",
    "usernameIn = input(\"What is your name? \")\n",
    "username = usernameIn\n",
    "print(\"Hi\", username)\n",
    "\n",
    "# code asks a user to guess the number between 1 and 10\n",
    "guess_randnum = int(input(\"Please choose a number between 1 and 10:\\n\"))\n",
    "\n",
    "if guess_randnum == numrand:\n",
    "    print(\" well done!\",usernameIn, \"your guess is correct\")\n",
    "\n",
    "else:\n",
    "    print(\"Sorry\",usernameIn,\"your guess is incorrect, please try again\")"
   ]
  },
  {
   "cell_type": "code",
   "execution_count": 2,
   "metadata": {},
   "outputs": [
    {
     "name": "stdout",
     "output_type": "stream",
     "text": [
      "your name is  \n"
     ]
    }
   ],
   "source": []
  },
  {
   "cell_type": "code",
   "execution_count": 3,
   "metadata": {},
   "outputs": [
    {
     "ename": "ValueError",
     "evalue": "invalid literal for int() with base 10: ''",
     "output_type": "error",
     "traceback": [
      "\u001b[1;31m---------------------------------------------------------------------------\u001b[0m",
      "\u001b[1;31mValueError\u001b[0m                                Traceback (most recent call last)",
      "Input \u001b[1;32mIn [3]\u001b[0m, in \u001b[0;36m<module>\u001b[1;34m\u001b[0m\n\u001b[0;32m      1\u001b[0m \u001b[38;5;66;03m# code asks a user to guess the number between 1 and 10\u001b[39;00m\n\u001b[1;32m----> 2\u001b[0m guess_randnum \u001b[38;5;241m=\u001b[39m \u001b[38;5;28;43mint\u001b[39;49m\u001b[43m(\u001b[49m\u001b[38;5;28;43minput\u001b[39;49m\u001b[43m(\u001b[49m\u001b[38;5;124;43m\"\u001b[39;49m\u001b[38;5;124;43mPlease choose a number between 1 and 10:\u001b[39;49m\u001b[38;5;130;43;01m\\n\u001b[39;49;00m\u001b[38;5;124;43m\"\u001b[39;49m\u001b[43m)\u001b[49m\u001b[43m)\u001b[49m\n\u001b[0;32m      4\u001b[0m \u001b[38;5;28;01mif\u001b[39;00m guess_randnum \u001b[38;5;241m==\u001b[39m numrand:\n\u001b[0;32m      5\u001b[0m     \u001b[38;5;28mprint\u001b[39m(usernameIn,\u001b[38;5;124m\"\u001b[39m\u001b[38;5;124m well done! your guess is correct\u001b[39m\u001b[38;5;124m\"\u001b[39m)\n",
      "\u001b[1;31mValueError\u001b[0m: invalid literal for int() with base 10: ''"
     ]
    }
   ],
   "source": []
  }
 ],
 "metadata": {
  "interpreter": {
   "hash": "d62bf26cced73ea125945064761b766a12ba49f06257a4865f283bda77d40a78"
  },
  "kernelspec": {
   "display_name": "Python 3.9.10 64-bit (windows store)",
   "language": "python",
   "name": "python3"
  },
  "language_info": {
   "codemirror_mode": {
    "name": "ipython",
    "version": 3
   },
   "file_extension": ".py",
   "mimetype": "text/x-python",
   "name": "python",
   "nbconvert_exporter": "python",
   "pygments_lexer": "ipython3",
   "version": "3.9.10"
  },
  "orig_nbformat": 4
 },
 "nbformat": 4,
 "nbformat_minor": 2
}
