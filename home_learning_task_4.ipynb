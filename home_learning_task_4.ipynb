{
 "cells": [
  {
   "cell_type": "markdown",
   "metadata": {},
   "source": [
    "A motorbike costs £2000 and loses 10% of its value every year. Using a \n",
    "loop, print the value of the bike every following year until it falls below \n",
    "£1000.\n"
   ]
  },
  {
   "cell_type": "code",
   "execution_count": 21,
   "metadata": {},
   "outputs": [
    {
     "name": "stdout",
     "output_type": "stream",
     "text": [
      "1800.0\n",
      "1619.1\n",
      "1456.29\n",
      "1309.761\n",
      "1177.8849\n",
      "1059.19641\n",
      "952.376769\n",
      "The final depreciation motorbike value is: 951.376769\n"
     ]
    }
   ],
   "source": [
    "#store the cost of the motorbike in a variable \n",
    "motorbike_value = 2000\n",
    "#the code uses 'while' to loop through \n",
    "while motorbike_value>= 1000:\n",
    "    depreciate = motorbike_value * 0.1\n",
    "   \n",
    "    motorbike_value = motorbike_value - depreciate\n",
    "    print(motorbike_value)\n",
    "    \n",
    "    motorbike_value = motorbike_value - 1 \n",
    "    #print (motorbike_value)\n",
    "print (\"The final depreciation motorbike value is:\" ,motorbike_value)\n",
    " "
   ]
  }
 ],
 "metadata": {
  "interpreter": {
   "hash": "d62bf26cced73ea125945064761b766a12ba49f06257a4865f283bda77d40a78"
  },
  "kernelspec": {
   "display_name": "Python 3.9.10 64-bit (windows store)",
   "language": "python",
   "name": "python3"
  },
  "language_info": {
   "codemirror_mode": {
    "name": "ipython",
    "version": 3
   },
   "file_extension": ".py",
   "mimetype": "text/x-python",
   "name": "python",
   "nbconvert_exporter": "python",
   "pygments_lexer": "ipython3",
   "version": "3.9.10"
  },
  "orig_nbformat": 4
 },
 "nbformat": 4,
 "nbformat_minor": 2
}
