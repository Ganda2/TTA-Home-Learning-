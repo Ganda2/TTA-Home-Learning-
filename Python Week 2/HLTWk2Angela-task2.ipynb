{
 "cells": [
  {
   "cell_type": "markdown",
   "metadata": {},
   "source": [
    "Task 2--\n",
    "As an extension to the motorbike task that costs \n",
    "£2000 and loses 10% of its value every year. Set up \n",
    "a function that performs the calculation by passing \n",
    "in parameters. Then using a loop, print the value of \n",
    "the bike every following year until it falls below \n",
    "£1000."
   ]
  },
  {
   "cell_type": "code",
   "execution_count": 15,
   "metadata": {},
   "outputs": [
    {
     "name": "stdout",
     "output_type": "stream",
     "text": [
      "The bike is worth: 1979.0\n",
      "The bike is worth: 1958.21\n",
      "The bike is worth: 1937.6279\n",
      "The bike is worth: 1917.251621\n",
      "The bike is worth: 1897.07910479\n",
      "The bike is worth: 1877.1083137420999\n",
      "The bike is worth: 1857.3372306046788\n",
      "The bike is worth: 1837.763858298632\n",
      "The bike is worth: 1818.3862197156457\n",
      "The bike is worth: 1799.2023575184892\n",
      "The bike is worth: 1780.2103339433042\n",
      "The bike is worth: 1761.4082306038713\n",
      "The bike is worth: 1742.7941482978326\n",
      "The bike is worth: 1724.3662068148542\n",
      "The bike is worth: 1706.1225447467057\n",
      "The bike is worth: 1688.0613192992387\n",
      "The bike is worth: 1670.1807061062464\n",
      "The bike is worth: 1652.4788990451839\n",
      "The bike is worth: 1634.9541100547322\n",
      "The bike is worth: 1617.6045689541847\n",
      "The bike is worth: 1600.428523264643\n",
      "The bike is worth: 1583.4242380319965\n",
      "The bike is worth: 1566.5899956516766\n",
      "The bike is worth: 1549.9240956951598\n",
      "The bike is worth: 1533.4248547382083\n",
      "The bike is worth: 1517.0906061908263\n",
      "The bike is worth: 1500.919700128918\n",
      "The bike is worth: 1484.910503127629\n",
      "The bike is worth: 1469.0613980963526\n",
      "The bike is worth: 1453.3707841153891\n",
      "The bike is worth: 1437.8370762742352\n",
      "The bike is worth: 1422.4587055114928\n",
      "The bike is worth: 1407.234118456378\n",
      "The bike is worth: 1392.1617772718141\n",
      "The bike is worth: 1377.240159499096\n",
      "The bike is worth: 1362.4677579041052\n",
      "The bike is worth: 1347.8430803250642\n",
      "The bike is worth: 1333.3646495218136\n",
      "The bike is worth: 1319.0310030265955\n",
      "The bike is worth: 1304.8406929963296\n",
      "The bike is worth: 1290.7922860663664\n",
      "The bike is worth: 1276.8843632057028\n",
      "The bike is worth: 1263.1155195736458\n",
      "The bike is worth: 1249.4843643779093\n",
      "The bike is worth: 1235.98952073413\n",
      "The bike is worth: 1222.629625526789\n",
      "The bike is worth: 1209.403329271521\n",
      "The bike is worth: 1196.3092959788057\n",
      "The bike is worth: 1183.3462030190176\n",
      "The bike is worth: 1170.5127409888273\n",
      "The bike is worth: 1157.807613578939\n",
      "The bike is worth: 1145.2295374431496\n",
      "The bike is worth: 1132.7772420687181\n",
      "The bike is worth: 1120.449469648031\n",
      "The bike is worth: 1108.2449749515508\n",
      "The bike is worth: 1096.1625252020353\n",
      "The bike is worth: 1084.200899950015\n",
      "The bike is worth: 1072.3588909505147\n",
      "The bike is worth: 1060.6353020410095\n",
      "The bike is worth: 1049.0289490205994\n",
      "The bike is worth: 1037.5386595303935\n",
      "The bike is worth: 1026.1632729350895\n",
      "The bike is worth: 1014.9016402057385\n",
      "The bike is worth: 1003.7526238036811\n",
      "The bike is worth: 992.7150975656443\n"
     ]
    },
    {
     "data": {
      "text/plain": [
       "('The final value of bike is ', 992.7150975656443)"
      ]
     },
     "execution_count": 15,
     "metadata": {},
     "output_type": "execute_result"
    }
   ],
   "source": [
    "\n",
    "\n",
    "def bike_val():\n",
    "    bike_value = 2000\n",
    "    while bike_value >= 1000 :\n",
    "       \n",
    "        depreciate = bike_value * 0.01\n",
    "        bike_value = bike_value - depreciate\n",
    "        bike_value = bike_value - 1\n",
    "        print(\"The bike is worth:\",bike_value)\n",
    "       \n",
    "    return (\"The final value of bike is \",bike_value)\n",
    "\n",
    "\n",
    "bike_val()"
   ]
  }
 ],
 "metadata": {
  "interpreter": {
   "hash": "d62bf26cced73ea125945064761b766a12ba49f06257a4865f283bda77d40a78"
  },
  "kernelspec": {
   "display_name": "Python 3.9.10 64-bit (windows store)",
   "language": "python",
   "name": "python3"
  },
  "language_info": {
   "codemirror_mode": {
    "name": "ipython",
    "version": 3
   },
   "file_extension": ".py",
   "mimetype": "text/x-python",
   "name": "python",
   "nbconvert_exporter": "python",
   "pygments_lexer": "ipython3",
   "version": "3.9.10"
  },
  "orig_nbformat": 4
 },
 "nbformat": 4,
 "nbformat_minor": 2
}
