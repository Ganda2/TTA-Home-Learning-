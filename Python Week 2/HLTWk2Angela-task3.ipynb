{
 "cells": [
  {
   "cell_type": "markdown",
   "metadata": {},
   "source": [
    "Task 3 -- \n",
    "Write a program which will ask for two numbers \n",
    "from a user. Then offer an option menu to the user \n",
    "giving them a choice of maths operators. Once the \n",
    "user has selected which operator they wish to use, \n",
    "perform the calculation by using a procedure and \n",
    "passing parameters."
   ]
  },
  {
   "cell_type": "code",
   "execution_count": 5,
   "metadata": {},
   "outputs": [
    {
     "name": "stdout",
     "output_type": "stream",
     "text": [
      "8 modulus of  3 is 2\n"
     ]
    }
   ],
   "source": [
    "\n",
    "def procedure_1():\n",
    "    \n",
    "    number_1 = int(input(\"Enter your first number\"))\n",
    "    number_2  = int(input(\"Enter your second number\"))\n",
    "    sign = (input(\"Choose operator you would like to compute: add,subtract,multiply,or divide\"))\n",
    "    if sign == \"+\":\n",
    "        answer = number_1 + number_2\n",
    "        print(number_1 ,\"add\", number_2, \"is\" ,answer)\n",
    "\n",
    "    elif sign == \"-\":\n",
    "        answer =  number_1 - number_2\n",
    "        print(number_1 ,\"subtract\", number_2, \"is\" ,answer)\n",
    "\n",
    "    elif sign == \"/\":\n",
    "        answer = number_1 / number_2\n",
    "        if number_2 == 0:\n",
    "            print(\"You cannot divide a number by 0\")\n",
    "        else:\n",
    "            print(number_1 ,\"divide by\", number_2, \"is\" ,answer)\n",
    "\n",
    "    elif sign == \"*\":\n",
    "        answer = number_1 * number_2\n",
    "        print(number_1 ,\"multiply by\", number_2, \"is\" ,answer)\n",
    "\n",
    "    elif sign == \"**\":\n",
    "         answer= number_1 ** number_2\n",
    "         print(number_1 ,\"to the power of \", number_2, \"is\" ,answer)\n",
    "\n",
    "    elif sign == \"%\":\n",
    "        answer = number_1 % number_2\n",
    "        print(number_1 ,\"modulus of\", number_2, \"is\" ,answer)\n",
    "\n",
    "    else:\n",
    "        print(\"An appropriate operator was not selected!\")\n",
    "\n",
    "procedure_1()"
   ]
  },
  {
   "cell_type": "code",
   "execution_count": 10,
   "metadata": {},
   "outputs": [
    {
     "name": "stdout",
     "output_type": "stream",
     "text": [
      "11\n"
     ]
    }
   ],
   "source": []
  }
 ],
 "metadata": {
  "interpreter": {
   "hash": "d62bf26cced73ea125945064761b766a12ba49f06257a4865f283bda77d40a78"
  },
  "kernelspec": {
   "display_name": "Python 3.9.10 64-bit (windows store)",
   "language": "python",
   "name": "python3"
  },
  "language_info": {
   "codemirror_mode": {
    "name": "ipython",
    "version": 3
   },
   "file_extension": ".py",
   "mimetype": "text/x-python",
   "name": "python",
   "nbconvert_exporter": "python",
   "pygments_lexer": "ipython3",
   "version": "3.9.10"
  },
  "orig_nbformat": 4
 },
 "nbformat": 4,
 "nbformat_minor": 2
}
