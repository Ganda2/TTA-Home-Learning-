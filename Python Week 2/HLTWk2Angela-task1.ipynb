{
 "cells": [
  {
   "cell_type": "markdown",
   "metadata": {},
   "source": [
    "#Program that takes a patient's temperature and record to see if temperature is high or low "
   ]
  },
  {
   "cell_type": "code",
   "execution_count": 16,
   "metadata": {},
   "outputs": [
    {
     "name": "stdout",
     "output_type": "stream",
     "text": [
      "Hello Angela , your temperature is 39 and is above threshold.\n",
      "Angela you will need to wait in the Isolation room.\n"
     ]
    }
   ],
   "source": [
    "#temp = 37.5\n",
    "name = input(\"What is your name?\")\n",
    "temperature = int(input(\"Enter temperature for\"))\n",
    "\n",
    "if  temperature > 37.5:\n",
    "    print(\"Hello\" ,name,\", your temperature is\", temperature, \"and is above threshold.\")\n",
    "    print(name, \"you will need to wait in the Isolation room.\")\n",
    "else:\n",
    "    print(\"temperature is normal, wait to see the Doctor!\")\n",
    "\n",
    "\n"
   ]
  }
 ],
 "metadata": {
  "interpreter": {
   "hash": "d62bf26cced73ea125945064761b766a12ba49f06257a4865f283bda77d40a78"
  },
  "kernelspec": {
   "display_name": "Python 3.9.10 64-bit (windows store)",
   "language": "python",
   "name": "python3"
  },
  "language_info": {
   "codemirror_mode": {
    "name": "ipython",
    "version": 3
   },
   "file_extension": ".py",
   "mimetype": "text/x-python",
   "name": "python",
   "nbconvert_exporter": "python",
   "pygments_lexer": "ipython3",
   "version": "3.9.10"
  },
  "orig_nbformat": 4
 },
 "nbformat": 4,
 "nbformat_minor": 2
}
