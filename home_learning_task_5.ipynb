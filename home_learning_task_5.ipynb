{
 "cells": [
  {
   "cell_type": "markdown",
   "metadata": {},
   "source": [
    "Task 5: \n",
    "Write a program which will ask for two numbers from a user. Then \n",
    "offer a menu to the user giving them a choice of operator:\n",
    "e.g. – Enter “a” if you want to add\n",
    "“b” if you want to subtract\n",
    "Include +, -, /, *, ** square (to the power of). Once the user has \n",
    "selected which operator they wish to use, p"
   ]
  },
  {
   "cell_type": "code",
   "execution_count": 27,
   "metadata": {},
   "outputs": [
    {
     "name": "stdout",
     "output_type": "stream",
     "text": [
      "15 divided by 3 is 5.0\n"
     ]
    }
   ],
   "source": [
    "#code to accept input from user\n",
    "num_one = int(input(\"Enter your first number\"))\n",
    "num_two = int(input(\"Enter your second number\"))\n",
    "\n",
    "\n",
    "user_menu = input(\"Choose the operation you want to perform: Enter ' a' to add,' b' to subract ' c' to multiply: ' d' to divide:  or ' e' to find the power of \")\n",
    "\n",
    "\n",
    "#code adds two numbers\n",
    "if user_menu == \"a\":\n",
    "    num_add = num_one + num_two\n",
    "    print(num_one ,\"add\", num_two, \"is\" ,num_add)\n",
    "\n",
    "#code subracts two numbers\n",
    "if user_menu == \"b\":\n",
    "    num_subtract = num_one - num_two\n",
    "    print(num_one ,\"subtract\", num_two, \"is\" ,num_subtract)\n",
    "    \n",
    "\n",
    "#code multiplies two numbers\n",
    "if user_menu == \"c\":\n",
    "    num_multiply = num_one * num_two\n",
    "    print(num_one ,\"multiply by\", num_two, \"is\" ,num_multiply)\n",
    "\n",
    "\n",
    "#code divides two numbers\n",
    " \n",
    "if user_menu == \"d\":\n",
    "    num_divide = num_one / num_two\n",
    "if num_two == 0:\n",
    "    print(\"cannot divide by 0\")\n",
    "else: \n",
    "    print(num_one ,\"divided by\", num_two, \"is\" ,num_divide)\n",
    "\n",
    "#code power of numbers\n",
    "if user_menu == \"e\":\n",
    "    num_powr = num_one ** num_two\n",
    "    print(num_one ,\"to the power of \", num_two, \"is\" ,num_powr)\n"
   ]
  }
 ],
 "metadata": {
  "interpreter": {
   "hash": "d62bf26cced73ea125945064761b766a12ba49f06257a4865f283bda77d40a78"
  },
  "kernelspec": {
   "display_name": "Python 3.9.10 64-bit (windows store)",
   "language": "python",
   "name": "python3"
  },
  "language_info": {
   "codemirror_mode": {
    "name": "ipython",
    "version": 3
   },
   "file_extension": ".py",
   "mimetype": "text/x-python",
   "name": "python",
   "nbconvert_exporter": "python",
   "pygments_lexer": "ipython3",
   "version": "3.9.10"
  },
  "orig_nbformat": 4
 },
 "nbformat": 4,
 "nbformat_minor": 2
}
