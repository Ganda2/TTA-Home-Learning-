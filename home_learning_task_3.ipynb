{
 "cells": [
  {
   "cell_type": "markdown",
   "metadata": {},
   "source": [
    "TASK 3\n",
    "Write a program that allows user to enter their favourite starter, main \n",
    "course, dessert and drink.\n",
    "Concatenate these and output a message which says – “Your favourite \n",
    "meal is ………with a glass of….”"
   ]
  },
  {
   "cell_type": "code",
   "execution_count": 18,
   "metadata": {},
   "outputs": [
    {
     "name": "stdout",
     "output_type": "stream",
     "text": [
      "Your favourite meal is: soup for starter, chips for main course, chocolate for dessert with a glass of orange\n"
     ]
    }
   ],
   "source": [
    "\n",
    "# accepting input from the user and storing in variables \n",
    "fav_starter = input(\"Please enter your favourite starter :\\n\")\n",
    "fav_main = input(\"Please enter your favourite main course :\\n\")\n",
    "fav_dessert = input(\"Please enter your favourite dessert :\\n\")\n",
    "fav_drink = input(\"Please enter your favourite drink :\\n\")\n",
    "\n",
    "#printing the user responses\n",
    "print(\"Your favourite meal is:\",fav_starter, \"for \" + \"starter,\",fav_main,\"for \" + \"main course,\",fav_dessert,\"]for \" + \"dessert\", \"with a glass of\", fav_drink )"
   ]
  }
 ],
 "metadata": {
  "interpreter": {
   "hash": "d62bf26cced73ea125945064761b766a12ba49f06257a4865f283bda77d40a78"
  },
  "kernelspec": {
   "display_name": "Python 3.9.10 64-bit (windows store)",
   "language": "python",
   "name": "python3"
  },
  "language_info": {
   "codemirror_mode": {
    "name": "ipython",
    "version": 3
   },
   "file_extension": ".py",
   "mimetype": "text/x-python",
   "name": "python",
   "nbconvert_exporter": "python",
   "pygments_lexer": "ipython3",
   "version": "3.9.10"
  },
  "orig_nbformat": 4
 },
 "nbformat": 4,
 "nbformat_minor": 2
}
